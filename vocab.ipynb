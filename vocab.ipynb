{
 "cells": [
  {
   "cell_type": "code",
   "execution_count": 18,
   "metadata": {},
   "outputs": [],
   "source": [
    "from typing import Callable\n",
    "\n",
    "import requests\n",
    "import tiktoken\n",
    "\n",
    "def read_text(url: str) -> str:\n",
    "    response: requests.Response = requests.get(url)\n",
    "    text: str = response.content.decode(\"utf-8\")\n",
    "    return text\n",
    "\n",
    "def faust() -> str:\n",
    "    text: str = read_text(\"https://www.gutenberg.org/files/2229/2229-0.txt\")\n",
    "    lines: list[str] = text.splitlines()\n",
    "    return \"\\n\".join(lines[69:7184])\n",
    "\n",
    "def tiny_shakespeare() -> str:\n",
    "    text: str = read_text(\"https://raw.githubusercontent.com/karpathy/char-rnn/master/data/tinyshakespeare/input.txt\")\n",
    "    return text\n",
    "\n",
    "def turtle() -> str:\n",
    "    text: str = read_text(\"https://raw.githubusercontent.com/python/cpython/main/Lib/turtle.py\")\n",
    "    return text\n",
    "\n",
    "def _ratio(text) -> float:\n",
    "    encoding: tiktoken.Encoding = tiktoken.get_encoding(\"cl100k_base\")\n",
    "    num_tokens: int = len(encoding.encode(text))\n",
    "    num_chars: int = len(text)\n",
    "    return num_chars / num_tokens"
   ]
  },
  {
   "cell_type": "code",
   "execution_count": 20,
   "metadata": {},
   "outputs": [
    {
     "name": "stdout",
     "output_type": "stream",
     "text": [
      "* In the German language each token represents 3.10 characters. A standard page contains approximately 484.04 tokens.\n",
      "* In the English language each token represents 3.70 characters. A standard page contains approximately 405.90 tokens.\n",
      "* In the Python language each token represents 4.21 characters. A standard page contains approximately 356.33 tokens.\n"
     ]
    }
   ],
   "source": [
    "# In this analysis, we calculate the character-to-token ratio for several languages. \n",
    "# As per the definition provided by VG Wort, a standard page consists of 1,500 characters.\n",
    "# https://www.vgwort.de/auszahlungen/wissenschaftliche-publikationen/fach-und-sachzeitschriften.html\n",
    "data: list[tuple[str, Callable]] = [\n",
    "    (\"German\", faust),\n",
    "    (\"English\", tiny_shakespeare),\n",
    "    (\"Python\", turtle)\n",
    "]\n",
    "\n",
    "for element in data:\n",
    "    language, func = element\n",
    "    text = func()\n",
    "    ratio = _ratio(text)\n",
    "    print(f\"* In the {language} language each token represents {ratio:.2f} characters. Consequently, a standard page contains approximately {1500 / ratio:.2f} tokens.\")"
   ]
  }
 ],
 "metadata": {
  "kernelspec": {
   "display_name": "chatgpt-analysis",
   "language": "python",
   "name": "python3"
  },
  "language_info": {
   "codemirror_mode": {
    "name": "ipython",
    "version": 3
   },
   "file_extension": ".py",
   "mimetype": "text/x-python",
   "name": "python",
   "nbconvert_exporter": "python",
   "pygments_lexer": "ipython3",
   "version": "3.10.9"
  },
  "orig_nbformat": 4
 },
 "nbformat": 4,
 "nbformat_minor": 2
}
